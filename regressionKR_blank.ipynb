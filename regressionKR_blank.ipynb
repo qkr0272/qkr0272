{
 "cells": [
  {
   "cell_type": "markdown",
   "metadata": {},
   "source": [
    "    vector : 행 or 열이 1\n",
    "    [input v] - [process 행렬] - [output v]\n",
    "    데이터 학습을 통해 process 행렬을 찾아가는 과정\n",
    "        1. 행렬 값을 임의로 넣어줌\n",
    "        2. 예측값과 정답 사이의 error를 좁혀나감"
   ]
  },
  {
   "cell_type": "markdown",
   "metadata": {},
   "source": [
    "# Import modules"
   ]
  },
  {
   "cell_type": "code",
   "execution_count": 1,
   "metadata": {
    "scrolled": true
   },
   "outputs": [],
   "source": [
    "import pandas as pd\n",
    "import numpy as np\n",
    "import matplotlib.pyplot as plt"
   ]
  },
  {
   "cell_type": "code",
   "execution_count": 2,
   "metadata": {},
   "outputs": [],
   "source": [
    "from tensorflow.keras.models import Sequential\n",
    "from tensorflow.keras.layers import Dense"
   ]
  },
  {
   "cell_type": "markdown",
   "metadata": {},
   "source": [
    "# Data Preparation and Visualization"
   ]
  },
  {
   "cell_type": "markdown",
   "metadata": {},
   "source": [
    "    (X, Y)로 표현\n",
    "    정비례 하는 식의 패턴이 보이고 있음"
   ]
  },
  {
   "cell_type": "code",
   "execution_count": 3,
   "metadata": {},
   "outputs": [
    {
     "data": {
      "text/plain": [
       "[<matplotlib.lines.Line2D at 0x21885dd3ef0>]"
      ]
     },
     "execution_count": 3,
     "metadata": {},
     "output_type": "execute_result"
    },
    {
     "data": {
      "image/png": "[encoded data removed]",
      "text/plain": [
       "<Figure size 432x288 with 1 Axes>"
      ]
     },
     "metadata": {
      "needs_background": "light"
     },
     "output_type": "display_data"
    }
   ],
   "source": [
    "data =pd.read_csv('regression.csv')\n",
    "X = data['X']\n",
    "Y = data['Y']\n",
    "plt.plot(X, Y, 'o')"
   ]
  },
  {
   "cell_type": "markdown",
   "metadata": {},
   "source": [
    "# Create Model\n",
    "    sequential : 입력 v에서 출력 v로 감\n",
    "    Dense(x, y) : x,y는 각각 출력부 입력부를 의미\n",
    "    y = ax + b 신경망을 만들었음"
   ]
  },
  {
   "cell_type": "code",
   "execution_count": 6,
   "metadata": {},
   "outputs": [],
   "source": [
    "model = Sequential()\n",
    "model.add(Dense(1, input_shape=[1]))\n",
    "model.compile(optimizer=\"sgd\", loss='mse')"
   ]
  },
  {
   "cell_type": "markdown",
   "metadata": {},
   "source": [
    "# Train model"
   ]
  },
  {
   "cell_type": "code",
   "execution_count": 7,
   "metadata": {},
   "outputs": [
    {
     "name": "stdout",
     "output_type": "stream",
     "text": [
      "WARNING:tensorflow:From C:\\Users\\pkh02\\Anaconda3\\lib\\site-packages\\tensorflow\\python\\ops\\math_ops.py:3066: to_int32 (from tensorflow.python.ops.math_ops) is deprecated and will be removed in a future version.\n",
      "Instructions for updating:\n",
      "Use tf.cast instead.\n",
      "Epoch 1/100\n",
      "17/17 [==============================] - 2s 93ms/sample - loss: 75.5479\n",
      "Epoch 2/100\n",
      "17/17 [==============================] - 0s 0s/sample - loss: 0.7896\n",
      "Epoch 3/100\n",
      "17/17 [==============================] - 0s 0s/sample - loss: 0.0889\n",
      "Epoch 4/100\n",
      "17/17 [==============================] - 0s 0s/sample - loss: 0.0820\n",
      "Epoch 5/100\n",
      "17/17 [==============================] - 0s 411us/sample - loss: 0.0815\n",
      "Epoch 6/100\n",
      "17/17 [==============================] - 0s 357us/sample - loss: 0.0811\n",
      "Epoch 7/100\n",
      "17/17 [==============================] - 0s 919us/sample - loss: 0.0807\n",
      "Epoch 8/100\n",
      "17/17 [==============================] - 0s 919us/sample - loss: 0.0803\n",
      "Epoch 9/100\n",
      "17/17 [==============================] - 0s 0s/sample - loss: 0.0800\n",
      "Epoch 10/100\n",
      "17/17 [==============================] - 0s 0s/sample - loss: 0.0796\n",
      "Epoch 11/100\n",
      "17/17 [==============================] - 0s 919us/sample - loss: 0.0792\n",
      "Epoch 12/100\n",
      "17/17 [==============================] - 0s 0s/sample - loss: 0.0788\n",
      "Epoch 13/100\n",
      "17/17 [==============================] - 0s 919us/sample - loss: 0.0784\n",
      "Epoch 14/100\n",
      "17/17 [==============================] - 0s 0s/sample - loss: 0.0780\n",
      "Epoch 15/100\n",
      "17/17 [==============================] - 0s 0s/sample - loss: 0.0777\n",
      "Epoch 16/100\n",
      "17/17 [==============================] - 0s 919us/sample - loss: 0.0773\n",
      "Epoch 17/100\n",
      "17/17 [==============================] - 0s 0s/sample - loss: 0.0769\n",
      "Epoch 18/100\n",
      "17/17 [==============================] - 0s 919us/sample - loss: 0.0765\n",
      "Epoch 19/100\n",
      "17/17 [==============================] - 0s 0s/sample - loss: 0.0762\n",
      "Epoch 20/100\n",
      "17/17 [==============================] - 0s 0s/sample - loss: 0.0758\n",
      "Epoch 21/100\n",
      "17/17 [==============================] - 0s 919us/sample - loss: 0.0754\n",
      "Epoch 22/100\n",
      "17/17 [==============================] - 0s 0s/sample - loss: 0.0751\n",
      "Epoch 23/100\n",
      "17/17 [==============================] - 0s 0s/sample - loss: 0.0747\n",
      "Epoch 24/100\n",
      "17/17 [==============================] - 0s 0s/sample - loss: 0.0743\n",
      "Epoch 25/100\n",
      "17/17 [==============================] - 0s 0s/sample - loss: 0.0740\n",
      "Epoch 26/100\n",
      "17/17 [==============================] - 0s 2ms/sample - loss: 0.0736\n",
      "Epoch 27/100\n",
      "17/17 [==============================] - 0s 0s/sample - loss: 0.0733\n",
      "Epoch 28/100\n",
      "17/17 [==============================] - 0s 919us/sample - loss: 0.0729\n",
      "Epoch 29/100\n",
      "17/17 [==============================] - 0s 919us/sample - loss: 0.0726\n",
      "Epoch 30/100\n",
      "17/17 [==============================] - 0s 0s/sample - loss: 0.0722\n",
      "Epoch 31/100\n",
      "17/17 [==============================] - 0s 919us/sample - loss: 0.0718\n",
      "Epoch 32/100\n",
      "17/17 [==============================] - 0s 0s/sample - loss: 0.0715\n",
      "Epoch 33/100\n",
      "17/17 [==============================] - 0s 919us/sample - loss: 0.0712\n",
      "Epoch 34/100\n",
      "17/17 [==============================] - 0s 0s/sample - loss: 0.0708\n",
      "Epoch 35/100\n",
      "17/17 [==============================] - 0s 0s/sample - loss: 0.0705\n",
      "Epoch 36/100\n",
      "17/17 [==============================] - 0s 919us/sample - loss: 0.0701\n",
      "Epoch 37/100\n",
      "17/17 [==============================] - 0s 0s/sample - loss: 0.0698\n",
      "Epoch 38/100\n",
      "17/17 [==============================] - 0s 919us/sample - loss: 0.0694\n",
      "Epoch 39/100\n",
      "17/17 [==============================] - 0s 0s/sample - loss: 0.0691\n",
      "Epoch 40/100\n",
      "17/17 [==============================] - 0s 0s/sample - loss: 0.0688\n",
      "Epoch 41/100\n",
      "17/17 [==============================] - 0s 0s/sample - loss: 0.0684\n",
      "Epoch 42/100\n",
      "17/17 [==============================] - 0s 919us/sample - loss: 0.0681\n",
      "Epoch 43/100\n",
      "17/17 [==============================] - 0s 0s/sample - loss: 0.0678\n",
      "Epoch 44/100\n",
      "17/17 [==============================] - 0s 919us/sample - loss: 0.0674\n",
      "Epoch 45/100\n",
      "17/17 [==============================] - 0s 2ms/sample - loss: 0.0671\n",
      "Epoch 46/100\n",
      "17/17 [==============================] - 0s 0s/sample - loss: 0.0668\n",
      "Epoch 47/100\n",
      "17/17 [==============================] - 0s 919us/sample - loss: 0.0665\n",
      "Epoch 48/100\n",
      "17/17 [==============================] - 0s 0s/sample - loss: 0.0662\n",
      "Epoch 49/100\n",
      "17/17 [==============================] - 0s 919us/sample - loss: 0.0658\n",
      "Epoch 50/100\n",
      "17/17 [==============================] - 0s 0s/sample - loss: 0.0655\n",
      "Epoch 51/100\n",
      "17/17 [==============================] - 0s 919us/sample - loss: 0.0652\n",
      "Epoch 52/100\n",
      "17/17 [==============================] - 0s 0s/sample - loss: 0.0649\n",
      "Epoch 53/100\n",
      "17/17 [==============================] - 0s 0s/sample - loss: 0.0646\n",
      "Epoch 54/100\n",
      "17/17 [==============================] - 0s 0s/sample - loss: 0.0642\n",
      "Epoch 55/100\n",
      "17/17 [==============================] - 0s 0s/sample - loss: 0.0639\n",
      "Epoch 56/100\n",
      "17/17 [==============================] - 0s 0s/sample - loss: 0.0636\n",
      "Epoch 57/100\n",
      "17/17 [==============================] - 0s 0s/sample - loss: 0.0633\n",
      "Epoch 58/100\n",
      "17/17 [==============================] - 0s 0s/sample - loss: 0.0630\n",
      "Epoch 59/100\n",
      "17/17 [==============================] - 0s 919us/sample - loss: 0.0627\n",
      "Epoch 60/100\n",
      "17/17 [==============================] - 0s 0s/sample - loss: 0.0624\n",
      "Epoch 61/100\n",
      "17/17 [==============================] - 0s 0s/sample - loss: 0.0621\n",
      "Epoch 62/100\n",
      "17/17 [==============================] - 0s 0s/sample - loss: 0.0618\n",
      "Epoch 63/100\n",
      "17/17 [==============================] - 0s 0s/sample - loss: 0.0615\n",
      "Epoch 64/100\n",
      "17/17 [==============================] - 0s 0s/sample - loss: 0.0612\n",
      "Epoch 65/100\n",
      "17/17 [==============================] - 0s 0s/sample - loss: 0.0609\n",
      "Epoch 66/100\n",
      "17/17 [==============================] - 0s 919us/sample - loss: 0.0606\n",
      "Epoch 67/100\n",
      "17/17 [==============================] - 0s 0s/sample - loss: 0.0603\n",
      "Epoch 68/100\n",
      "17/17 [==============================] - 0s 919us/sample - loss: 0.0600\n",
      "Epoch 69/100\n",
      "17/17 [==============================] - 0s 0s/sample - loss: 0.0597\n",
      "Epoch 70/100\n",
      "17/17 [==============================] - 0s 919us/sample - loss: 0.0594\n",
      "Epoch 71/100\n",
      "17/17 [==============================] - 0s 0s/sample - loss: 0.0592\n",
      "Epoch 72/100\n",
      "17/17 [==============================] - 0s 0s/sample - loss: 0.0589\n",
      "Epoch 73/100\n",
      "17/17 [==============================] - 0s 0s/sample - loss: 0.0586\n",
      "Epoch 74/100\n",
      "17/17 [==============================] - 0s 919us/sample - loss: 0.0583\n",
      "Epoch 75/100\n",
      "17/17 [==============================] - 0s 919us/sample - loss: 0.0580\n",
      "Epoch 76/100\n",
      "17/17 [==============================] - 0s 0s/sample - loss: 0.0577\n",
      "Epoch 77/100\n",
      "17/17 [==============================] - 0s 0s/sample - loss: 0.0575\n",
      "Epoch 78/100\n",
      "17/17 [==============================] - 0s 0s/sample - loss: 0.0572\n",
      "Epoch 79/100\n",
      "17/17 [==============================] - 0s 0s/sample - loss: 0.0569\n",
      "Epoch 80/100\n",
      "17/17 [==============================] - 0s 0s/sample - loss: 0.0566\n",
      "Epoch 81/100\n",
      "17/17 [==============================] - 0s 0s/sample - loss: 0.0563\n",
      "Epoch 82/100\n",
      "17/17 [==============================] - 0s 0s/sample - loss: 0.0561\n",
      "Epoch 83/100\n",
      "17/17 [==============================] - 0s 919us/sample - loss: 0.0558\n",
      "Epoch 84/100\n",
      "17/17 [==============================] - 0s 0s/sample - loss: 0.0555\n",
      "Epoch 85/100\n",
      "17/17 [==============================] - 0s 919us/sample - loss: 0.0553\n",
      "Epoch 86/100\n",
      "17/17 [==============================] - 0s 0s/sample - loss: 0.0550\n",
      "Epoch 87/100\n",
      "17/17 [==============================] - 0s 0s/sample - loss: 0.0547\n",
      "Epoch 88/100\n",
      "17/17 [==============================] - 0s 919us/sample - loss: 0.0545\n",
      "Epoch 89/100\n",
      "17/17 [==============================] - 0s 0s/sample - loss: 0.0542\n",
      "Epoch 90/100\n",
      "17/17 [==============================] - 0s 919us/sample - loss: 0.0539\n",
      "Epoch 91/100\n",
      "17/17 [==============================] - 0s 0s/sample - loss: 0.0537\n",
      "Epoch 92/100\n",
      "17/17 [==============================] - 0s 919us/sample - loss: 0.0534\n",
      "Epoch 93/100\n",
      "17/17 [==============================] - 0s 0s/sample - loss: 0.0532\n",
      "Epoch 94/100\n",
      "17/17 [==============================] - 0s 0s/sample - loss: 0.0529\n",
      "Epoch 95/100\n",
      "17/17 [==============================] - 0s 0s/sample - loss: 0.0526\n",
      "Epoch 96/100\n",
      "17/17 [==============================] - 0s 0s/sample - loss: 0.0524\n"
     ]
    },
    {
     "name": "stdout",
     "output_type": "stream",
     "text": [
      "Epoch 97/100\n",
      "17/17 [==============================] - 0s 0s/sample - loss: 0.0521\n",
      "Epoch 98/100\n",
      "17/17 [==============================] - 0s 919us/sample - loss: 0.0519\n",
      "Epoch 99/100\n",
      "17/17 [==============================] - 0s 0s/sample - loss: 0.0516\n",
      "Epoch 100/100\n",
      "17/17 [==============================] - 0s 0s/sample - loss: 0.0514\n"
     ]
    },
    {
     "data": {
      "text/plain": [
       "<tensorflow.python.keras.callbacks.History at 0x21885e406a0>"
      ]
     },
     "execution_count": 7,
     "metadata": {},
     "output_type": "execute_result"
    }
   ],
   "source": [
    "model.fit([X, Y], epochs = 100)"
   ]
  },
  {
   "cell_type": "markdown",
   "metadata": {},
   "source": [
    "# Model Prediction"
   ]
  },
  {
   "cell_type": "code",
   "execution_count": 8,
   "metadata": {},
   "outputs": [
    {
     "data": {
      "image/png": "[encoded data removed]",
      "text/plain": [
       "<Figure size 432x288 with 1 Axes>"
      ]
     },
     "metadata": {
      "needs_background": "light"
     },
     "output_type": "display_data"
    }
   ],
   "source": [
    "x = [1, 2, 3, 4, 5, 6, 7, 8, 9, 10]\n",
    "y = model.predict(x)\n",
    "plt.plot(X, Y, '.')\n",
    "plt.plot(x,y, 'x')\n",
    "plt.show()"
   ]
  },
  {
   "cell_type": "markdown",
   "metadata": {},
   "source": [
    "# What are a and b in y = ax + b?"
   ]
  },
  {
   "cell_type": "markdown",
   "metadata": {},
   "source": [
    "    a,b : 학습될 process 행렬\n",
    "    x,y : 학습에 필요한 데이터"
   ]
  },
  {
   "cell_type": "code",
   "execution_count": 9,
   "metadata": {},
   "outputs": [
    {
     "name": "stdout",
     "output_type": "stream",
     "text": [
      "[array([[0.09064512]], dtype=float32), array([0.35736686], dtype=float32)]\n"
     ]
    }
   ],
   "source": [
    "weight = model.layers[0].get_weights()\n",
    "print(weight)"
   ]
  }
 ],
 "metadata": {
  "kernelspec": {
   "display_name": "Python 3",
   "language": "python",
   "name": "python3"
  },
  "language_info": {
   "codemirror_mode": {
    "name": "ipython",
    "version": 3
   },
   "file_extension": ".py",
   "mimetype": "text/x-python",
   "name": "python",
   "nbconvert_exporter": "python",
   "pygments_lexer": "ipython3",
   "version": "3.7.1"
  }
 },
 "nbformat": 4,
 "nbformat_minor": 2
}
