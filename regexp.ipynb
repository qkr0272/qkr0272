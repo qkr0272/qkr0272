{
 "cells": [
  {
   "cell_type": "code",
   "execution_count": 2,
   "metadata": {},
   "outputs": [],
   "source": [
    "import nltk\n",
    "import re"
   ]
  },
  {
   "cell_type": "code",
   "execution_count": 3,
   "metadata": {},
   "outputs": [
    {
     "data": {
      "text/plain": [
       "'\\nBasic Regular Expression Meta-Characters, Including Wildcards, Ranges and Closures\\n\\n.\\t        Wildcard, matches any character\\n\\n^abc\\t    Matches some pattern abc at the start of a string\\n\\nabc$\\t    Matches some pattern abc at the end of a string\\n\\n[abc]\\t    Matches one of a set of characters\\n\\n[^abc]      Matches anything but a set of characters\\n\\n[A-Z0-9]\\tMatches one of a range of characters\\n\\ned|ing|s\\tMatches one of the specified strings (disjunction)\\n\\n*\\t        Zero or more of previous item, e.g. a*, [a-z]* (also known as Kleene Closure)\\n\\n+\\t        One or more of previous item, e.g. a+, [a-z]+\\n\\n?\\t        Zero or one of the previous item (i.e. optional), e.g. a?, [a-z]?\\n\\n{n}\\t        Exactly n repeats where n is a non-negative integer\\n\\n{n,}\\t    At least n repeats\\n\\n{,n}\\t    No more than n repeats\\n\\n{m,n}\\t    At least m and no more than n repeats\\n\\na(b|c)+\\t    Parentheses that indicate the scope of the operators\\n\\n'"
      ]
     },
     "execution_count": 3,
     "metadata": {},
     "output_type": "execute_result"
    }
   ],
   "source": [
    "\"\"\"\n",
    "Basic Regular Expression Meta-Characters, Including Wildcards, Ranges and Closures\n",
    "\n",
    ".\t        Wildcard, matches any character\n",
    "\n",
    "^abc\t    Matches some pattern abc at the start of a string\n",
    "\n",
    "abc$\t    Matches some pattern abc at the end of a string\n",
    "\n",
    "[abc]\t    Matches one of a set of characters\n",
    "\n",
    "[^abc]      Matches anything but a set of characters\n",
    "\n",
    "[A-Z0-9]\tMatches one of a range of characters\n",
    "\n",
    "ed|ing|s\tMatches one of the specified strings (disjunction)\n",
    "\n",
    "*\t        Zero or more of previous item, e.g. a*, [a-z]* (also known as Kleene Closure)\n",
    "\n",
    "+\t        One or more of previous item, e.g. a+, [a-z]+\n",
    "\n",
    "?\t        Zero or one of the previous item (i.e. optional), e.g. a?, [a-z]?\n",
    "\n",
    "{n}\t        Exactly n repeats where n is a non-negative integer\n",
    "\n",
    "{n,}\t    At least n repeats\n",
    "\n",
    "{,n}\t    No more than n repeats\n",
    "\n",
    "{m,n}\t    At least m and no more than n repeats\n",
    "\n",
    "a(b|c)+\t    Parentheses that indicate the scope of the operators\n",
    "\n",
    "\"\"\""
   ]
  },
  {
   "cell_type": "code",
   "execution_count": 4,
   "metadata": {},
   "outputs": [],
   "source": [
    "dic = nltk.corpus.words.words('en')"
   ]
  },
  {
   "cell_type": "code",
   "execution_count": 5,
   "metadata": {},
   "outputs": [
    {
     "name": "stdout",
     "output_type": "stream",
     "text": [
      "length of wordlist :  210687\n",
      "type of wordlist :  <class 'list'>\n",
      "['a', 'aa', 'aal', 'aalii', 'aam', 'aardvark', 'aardwolf', 'aba', 'abac', 'abaca']\n"
     ]
    }
   ],
   "source": [
    "wordlist = [w for w in dic if w.islower()]\n",
    "print(\"length of wordlist : \",len(wordlist))\n",
    "print(\"type of wordlist : \", type(wordlist))\n",
    "print(wordlist[:10])"
   ]
  },
  {
   "cell_type": "markdown",
   "metadata": {},
   "source": [
    "[a for a in b if c] 절을 만들어서 표현."
   ]
  },
  {
   "cell_type": "code",
   "execution_count": 9,
   "metadata": {},
   "outputs": [
    {
     "data": {
      "text/plain": [
       "<re.Match object; span=(0, 3), match='abc'>"
      ]
     },
     "execution_count": 9,
     "metadata": {},
     "output_type": "execute_result"
    }
   ],
   "source": [
    "re.search('abc','abcde')"
   ]
  },
  {
   "cell_type": "code",
   "execution_count": 10,
   "metadata": {},
   "outputs": [],
   "source": [
    "re.search('abcde','abc')"
   ]
  },
  {
   "cell_type": "markdown",
   "metadata": {},
   "source": [
    "re.search함수 두 개를 비교하여 선후관계 파악해 봄."
   ]
  },
  {
   "cell_type": "code",
   "execution_count": 11,
   "metadata": {},
   "outputs": [
    {
     "name": "stdout",
     "output_type": "stream",
     "text": [
      "['abaissed', 'abandoned', 'abased', 'abashed', 'abatised', 'abed', 'aborted', 'abridged', 'abscessed', 'absconded']\n",
      "['abaissed', 'abandoned', 'abased', 'abashed', 'abatised', 'abed', 'aborted', 'abridged', 'abscessed', 'absconded']\n"
     ]
    }
   ],
   "source": [
    "result = [w for w in wordlist if re.search('ed$', w)][:10]\n",
    "print(result[:10])\n",
    "print(result)"
   ]
  },
  {
   "cell_type": "markdown",
   "metadata": {},
   "source": [
    "ed로 끝나는 단어 10개 파악. 조건절에서 10개를 지정하였으므로 프린트 타입에서 중복할 필요 없음."
   ]
  },
  {
   "cell_type": "code",
   "execution_count": 12,
   "metadata": {},
   "outputs": [
    {
     "name": "stdout",
     "output_type": "stream",
     "text": [
      "['abjectly', 'adjuster', 'dejected', 'dejectly', 'injector', 'majestic', 'objectee', 'objector', 'rejecter', 'rejector']\n"
     ]
    }
   ],
   "source": [
    "result = [w for w in wordlist if re.search('^..j..t..$', w)][:10]\n",
    "print(result[:10])"
   ]
  },
  {
   "cell_type": "code",
   "execution_count": 13,
   "metadata": {
    "scrolled": true
   },
   "outputs": [
    {
     "name": "stdout",
     "output_type": "stream",
     "text": [
      "['gold', 'golf', 'hold', 'hole']\n"
     ]
    }
   ],
   "source": [
    "result = [w for w in wordlist if re.search('^[ghi][mno][jlk][def]$', w)][:10]\n",
    "print(result[:10])"
   ]
  },
  {
   "cell_type": "code",
   "execution_count": 14,
   "metadata": {},
   "outputs": [
    {
     "name": "stdout",
     "output_type": "stream",
     "text": [
      "['a', 'aa', 'ah', 'aha', 'h', 'ha', 'hah']\n"
     ]
    }
   ],
   "source": [
    "result = [w for w in wordlist if re.search('^[ah]+$', w)][:10]\n",
    "print(result[:10])"
   ]
  },
  {
   "cell_type": "markdown",
   "metadata": {},
   "source": [
    "worldlist 기호를 통한 여러 가지 예시들 활용 및 익히기."
   ]
  }
 ],
 "metadata": {
  "kernelspec": {
   "display_name": "Python 3",
   "language": "python",
   "name": "python3"
  },
  "language_info": {
   "codemirror_mode": {
    "name": "ipython",
    "version": 3
   },
   "file_extension": ".py",
   "mimetype": "text/x-python",
   "name": "python",
   "nbconvert_exporter": "python",
   "pygments_lexer": "ipython3",
   "version": "3.7.1"
  }
 },
 "nbformat": 4,
 "nbformat_minor": 2
}
